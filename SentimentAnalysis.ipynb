{
 "cells": [
  {
   "cell_type": "code",
   "execution_count": 17,
   "metadata": {},
   "outputs": [],
   "source": [
    "from gensim.models import KeyedVectors\n",
    "\n",
    "# Load vectors directly from the Google file \n",
    "embeddingWords = KeyedVectors.load_word2vec_format('GoogleNews-vectors-negative300.bin', binary=True)"
   ]
  },
  {
   "cell_type": "code",
   "execution_count": 18,
   "metadata": {
    "pycharm": {
     "is_executing": false,
     "metadata": false,
     "name": "#%%\n"
    }
   },
   "outputs": [],
   "source": [
    "import re\n",
    "import pandas as pd\n",
    "import matplotlib.pyplot as plt\n",
    "import seaborn as sn\n",
    "from nltk.corpus import stopwords\n",
    "from nltk.stem.snowball import EnglishStemmer\n",
    "from nltk.tokenize import word_tokenize\n",
    "from gensim import models\n",
    "from sklearn.naive_bayes import MultinomialNB\n",
    "import numpy as np\n",
    "from sklearn.svm import SVR\n",
    "import nltk\n",
    "from sklearn import svm\n",
    "from sklearn.linear_model import SGDClassifier\n",
    "from sklearn.feature_extraction.text import CountVectorizer, TfidfTransformer\n",
    "from nltk.stem import WordNetLemmatizer \n",
    "\n",
    "df_train = pd.read_csv('TrainingTwitterFinal20K.csv')\n",
    "df_train.dropna(axis=0, inplace=True)\n",
    "\n",
    "def clean(text):\n",
    "    \n",
    "    if type(text) != str or text == '':\n",
    "        return ''\n",
    "     \n",
    "    text = re.sub(\"\\'s\", \"is\", text)\n",
    "    text = re.sub(\" whats \", \"what is\", text, flags=re.IGNORECASE)\n",
    "    text = re.sub(\"\\'ve\", \" have\", text)\n",
    "    text = re.sub(\"can\\'t\", \"cannot\", text, flags=re.IGNORECASE)\n",
    "    text = re.sub(\"don\\'t\", \"do not\", text, flags=re.IGNORECASE)\n",
    "    text = re.sub(\"what\\'s\", \"what is\", text, flags=re.IGNORECASE)\n",
    "    text = re.sub(\"aren\\'t\", \"are not\", text, flags=re.IGNORECASE)\n",
    "    text = re.sub(\"it\\'s\", \"it is\", text, flags=re.IGNORECASE)\n",
    "    text = re.sub(\"dont\", \"do not\", text, flags=re.IGNORECASE)\n",
    "    text = re.sub(\"how\\'s'\", \"how is\", text, flags=re.IGNORECASE)\n",
    "    text = re.sub(\"isn\\'t\", \"is not\", text, flags=re.IGNORECASE)\n",
    "    text = re.sub(\"\\'re\", \" are\", text, flags=re.IGNORECASE)\n",
    "    text = re.sub(\"\\'m\", \" am\", text, flags=re.IGNORECASE)\n",
    "    text = re.sub(\"jrk\", \"jerk\", text, flags=re.IGNORECASE)\n",
    "    text = re.sub(\"shoulda\", \"should have\", text, flags=re.IGNORECASE)\n",
    "    text = re.sub(r'\\W+', ' URL ', text)\n",
    "\n",
    "    '''\n",
    "    text = re.sub(r\"@\\S+\", \"\", text)\n",
    "    text = re.sub(r'\\W+', ' ', text)\n",
    "    text = re.sub(\"\\\"\", \" \", text)\n",
    "    text = re.sub(\"-\", \" \", text)\n",
    "    text = re.sub(\",\", \" \", text)\n",
    "    text = re.sub(\"\\(\", \"\", text)\n",
    "    text = re.sub(\"\\)\", \"\", text)\n",
    "    text = re.sub(\":\", \"\", text)\n",
    "    text = re.sub(\"\\?\", \"\", text)\n",
    "    text = re.sub(\"\\.\", \"\", text)\n",
    "    text = re.sub(\"/\", \" \", text)\n",
    "    text = re.sub(\":\\)\", \"\", text)\n",
    "    text = re.sub(\":\\(\", \"\", text)\n",
    "    text = re.sub(\";\\)\", \"\", text)\n",
    "    text = re.sub(\"\\(;\", \"\", text)\n",
    "    text = re.sub(\":,\\(\", \"\", text)\n",
    "    text = re.sub(\"\\(:\", \"\", text)\n",
    "    text = re.sub(\"\\):\", \"\", text)\n",
    "    text = re.sub(\":D\", \"\", text)\n",
    "    text = re.sub(\":P\", \"\", text)\n",
    "    '''\n",
    "    # remove comma between numbers, i.e. 15,000 -> 15000\n",
    "    text = re.sub('(?<=[0-9])\\,(?=[0-9])', \"\", text)\n",
    "    \n",
    "    text_file = open(\"list.txt\", \"r\")\n",
    "    lines = text_file.readlines()\n",
    "    lines = re.sub('\"', '', lines[0])\n",
    "    lines = re.sub(' ', '', lines)\n",
    "    lines = re.sub('\\n', '', lines)\n",
    "    \n",
    "    stopWords2 = lines.split(',')\n",
    "    # remove stopwords\n",
    "    stopWords = set(stopwords.words('english'))\n",
    "    # stemmer\n",
    "    stemmer = EnglishStemmer()\n",
    "\n",
    "    words = word_tokenize(text)\n",
    "    wordsFiltered = []\n",
    "      \n",
    "    lemmatizer = WordNetLemmatizer() \n",
    "  \n",
    "    for w in words:\n",
    "        if w not in stopWords:\n",
    "            if w not in stopWords2:        \n",
    "                wordsFiltered.append(lemmatizer.lemmatize(w))\n",
    "        \n",
    "\n",
    "    # Return a list of words\n",
    "    return sorted(list(set(wordsFiltered)))"
   ]
  },
  {
   "cell_type": "code",
   "execution_count": 19,
   "metadata": {
    "pycharm": {
     "is_executing": false,
     "metadata": false,
     "name": "#%%\n"
    }
   },
   "outputs": [
    {
     "data": {
      "text/plain": [
       "\"\\nfor i in range(len(df_train['comment'])):\\n    for j in range(len(df_train['comment'][i])):\\n        if i <= 200:\\n            unigram[df_train['comment'][i][j]] += 1\\n        else:\\n            break            \\n    else:\\n        continue\\n    break\\n    \\nfor i in range(len(df_train2['comment'])):\\n    for j in range(len(df_train2['comment'][i])):\\n        if i <= 200:\\n            unigram[df_train2['comment'][i][j]] += 1\\n        else:\\n            break       \\n    else:\\n        continue\\n    break\\n    \\nfor key, value in unigram.items():\\n    if unigram[key] >= 1 and unigram[key] <= 1:\\n        for i in range(0, len(df_train['comment'])-1):\\n            for j in range(0, len(df_train['comment'][i])-1):\\n                if i <= 200:\\n                    if df_train['comment'][i][j] == key:\\n                        df_train['comment'][i].remove(df_train['comment'][i][j])\\n                else:\\n                    break       \\n            else:\\n                continue\\n            break \\n            \\nfor key, value in unigram.items():\\n    if unigram[key] >= 1 or  unigram[key] <= 1:\\n        for i in range(0, len(df_train2['comment'])-1):\\n            for j in range(0, len(df_train2['comment'][i])-1):\\n                if i <= 200:\\n                    if df_train2['comment'][i][j] == key:\\n                        df_train2['comment'][i].remove(df_train2['comment'][i][j])\\n                else:\\n                    break\\n            else:  \\n                continue\\n            break\\n\""
      ]
     },
     "execution_count": 19,
     "metadata": {},
     "output_type": "execute_result"
    }
   ],
   "source": [
    "import math, collections\n",
    "\n",
    "df_train['comment'] = df_train['comment'].apply(clean)\n",
    "\n",
    "unigram = collections.defaultdict(lambda: 0)\n",
    "'''\n",
    "for i in range(len(df_train['comment'])):\n",
    "    for j in range(len(df_train['comment'][i])):\n",
    "        if i <= 200:\n",
    "            unigram[df_train['comment'][i][j]] += 1\n",
    "        else:\n",
    "            break            \n",
    "    else:\n",
    "        continue\n",
    "    break\n",
    "    \n",
    "for i in range(len(df_train2['comment'])):\n",
    "    for j in range(len(df_train2['comment'][i])):\n",
    "        if i <= 200:\n",
    "            unigram[df_train2['comment'][i][j]] += 1\n",
    "        else:\n",
    "            break       \n",
    "    else:\n",
    "        continue\n",
    "    break\n",
    "    \n",
    "for key, value in unigram.items():\n",
    "    if unigram[key] >= 1 and unigram[key] <= 1:\n",
    "        for i in range(0, len(df_train['comment'])-1):\n",
    "            for j in range(0, len(df_train['comment'][i])-1):\n",
    "                if i <= 200:\n",
    "                    if df_train['comment'][i][j] == key:\n",
    "                        df_train['comment'][i].remove(df_train['comment'][i][j])\n",
    "                else:\n",
    "                    break       \n",
    "            else:\n",
    "                continue\n",
    "            break \n",
    "            \n",
    "for key, value in unigram.items():\n",
    "    if unigram[key] >= 1 or  unigram[key] <= 1:\n",
    "        for i in range(0, len(df_train2['comment'])-1):\n",
    "            for j in range(0, len(df_train2['comment'][i])-1):\n",
    "                if i <= 200:\n",
    "                    if df_train2['comment'][i][j] == key:\n",
    "                        df_train2['comment'][i].remove(df_train2['comment'][i][j])\n",
    "                else:\n",
    "                    break\n",
    "            else:  \n",
    "                continue\n",
    "            break\n",
    "'''"
   ]
  },
  {
   "cell_type": "code",
   "execution_count": 20,
   "metadata": {
    "pycharm": {
     "is_executing": false,
     "metadata": false,
     "name": "#%%\n"
    }
   },
   "outputs": [],
   "source": [
    "#sum the vectors given a certain size\n",
    "def sumvector(vec1, vec2 ,size):\n",
    "    \n",
    "    if vec1 is None:\n",
    "        vec1 = [0] * size\n",
    "    \n",
    "    if vec2 is None:\n",
    "        vec2 = [0] * size\n",
    "\n",
    "    vecsum = []\n",
    "   \n",
    "    for i in range(len(vec1)):\n",
    "        vecsum.append(vec1[i] + vec2[i])\n",
    "\n",
    "    return vecsum"
   ]
  },
  {
   "cell_type": "code",
   "execution_count": 21,
   "metadata": {
    "pycharm": {
     "is_executing": false,
     "metadata": false,
     "name": "#%%\n"
    }
   },
   "outputs": [],
   "source": [
    "from sklearn.linear_model import LogisticRegression\n",
    "#get values from the train data\n",
    "c1 =df_train['comment'].values.tolist()\n",
    "#create a model using word2vec algorithm using the train data\n",
    "model = models.Word2Vec(c1, min_count=1, size=10)\n",
    "\n",
    "#create the vectors of each sentence\n",
    "C_vectors = [None] * 20000\n",
    "\n",
    "sizeVect= 10\n",
    "\n",
    "allSentences = []\n",
    "\n",
    "for i, sentence in enumerate(df_train['comment']):\n",
    "    string = ' '.join(sentence)\n",
    "    allSentences.append(string)\n",
    "    \n",
    "vectorizer = CountVectorizer()\n",
    "sentenceVectors = vectorizer.fit_transform(allSentences)\n",
    "counter = 0\n",
    "\n",
    "for i, sentence in enumerate(df_train['comment']):\n",
    "\n",
    "    for j, sentence2 in enumerate(df_train['comment'][i]):\n",
    "        \n",
    "        if df_train['comment'][i][j] in embeddingWords.vocab:\n",
    "            C_vectors[i] = sumvector(C_vectors[i], embeddingWords[df_train['comment'][i][j]], sizeVect)\n",
    "        else:\n",
    "            C_vectors[i] = sumvector(C_vectors[i], model.wv[df_train['comment'][i][j]], sizeVect)\n",
    "        \n",
    "    counter = i+1   \n",
    "    if C_vectors[i] is None:\n",
    "        C_vectors[i] = [0] * 10\n",
    "\n",
    "#create a classifier Support vector machines\n",
    "#SvmClass = svm.SVC(gamma=\"scale\")\n",
    "\n",
    "#create a classifier Logistic Regression\n",
    "\n",
    "#logreg = LogisticRegression(random_state=1, solver='lbfgs', multi_class='multinomial', max_iter=100000)\n",
    "\n",
    "#ANOTHER MODEL\n",
    "#modelSGDC = SGDClassifier(loss='log', random_state=0, n_iter=1000)"
   ]
  },
  {
   "cell_type": "code",
   "execution_count": 22,
   "metadata": {
    "pycharm": {}
   },
   "outputs": [],
   "source": [
    "#label the training set data\n",
    "labels = df_train['positivity'].values.tolist()\n",
    "\n",
    "tfidf = TfidfTransformer()\n",
    "train = tfidf.fit_transform(sentenceVectors)\n",
    "train.shape\n",
    "\n",
    "#create classifier, input Q1 and Q2 as an array for X values, and input categories (is duplicate or not) as Y values\n",
    "clf = MultinomialNB().fit(train, labels)\n",
    "#SvmClass.fit(C_vectors, labels)\n",
    "#logreg.fit(C_vectors, labels)\n",
    "#modelSGDC.fit(C_vectors, labels)"
   ]
  },
  {
   "cell_type": "code",
   "execution_count": 23,
   "metadata": {
    "pycharm": {
     "is_executing": true,
     "metadata": false,
     "name": "#%%\n"
    },
    "scrolled": true
   },
   "outputs": [
    {
     "name": "stdout",
     "output_type": "stream",
     "text": [
      "0.5778443113772455\n"
     ]
    }
   ],
   "source": [
    "from sklearn.metrics import confusion_matrix\n",
    "df_test = pd.read_csv('2004RCnew.csv')\n",
    "#df_test.drop(['n1'], axis=1, inplace=True)\n",
    "#df_test.drop(['time'], axis=1, inplace=True)\n",
    "#df_test.drop(['app'], axis=1, inplace=True)\n",
    "#df_test.drop(['name'], axis=1, inplace=True)\n",
    "\n",
    "df_test['comment'] = df_test['comment'].apply(clean)\n",
    "\n",
    "#get values from the test data\n",
    "T1 = df_test['comment'].values.tolist()\n",
    "\n",
    "#create a model using word2vec algorithm using the train data\n",
    "modelTest = models.Word2Vec(T1, min_count=1, size=10)\n",
    "\n",
    "#compute labels for the test data\n",
    "labels = df_test['positivity'].values\n",
    "\n",
    "#create the vectors of each sentences\n",
    "C_vectors2 = [None] * 2004\n",
    "\n",
    "for i, sentence in enumerate(df_test['comment']):\n",
    "    for j, sentence2 in enumerate(df_test['comment'][i]):\n",
    "        \n",
    "        if df_test['comment'][i][j] in embeddingWords.vocab:\n",
    "            C_vectors2[i] = sumvector(C_vectors2[i], embeddingWords[df_test['comment'][i][j]], sizeVect)\n",
    "        else:\n",
    "            C_vectors2[i] = sumvector(C_vectors2[i], modelTest.wv[df_test['comment'][i][j]], sizeVect)\n",
    "    \n",
    "    if C_vectors2[i] is None:\n",
    "        C_vectors2[i] = [0] * 10\n",
    " \n",
    "allSentences2 = []\n",
    "\n",
    "for i, sentence in enumerate(df_test['comment']):\n",
    "    allSentences2.append(' '.join(sentence))\n",
    "    \n",
    "sentenceVectors2 = vectorizer.transform(allSentences2)\n",
    "\n",
    "# calculate accuracy of the classifier\n",
    "#predicted = SvmClass.predict(C_vectors2)\n",
    "#predicted = modelSGDC.predict(C_vectors2)\n",
    "#predicted = logreg.predict(C_vectors2)\n",
    "predicted = clf.predict(sentenceVectors2)\n",
    "\n",
    "print(np.mean(predicted == labels))\n",
    "\n",
    "#df_cm = pd.DataFrame(confusionMatrix, range(len(confusionMatrix)), range(len(confusionMatrix)))\n",
    "#sn.set(font_scale=1.4)#for label size\n",
    "#sn.heatmap(df_cm, annot=True,annot_kws={\"size\": 16})# font size"
   ]
  },
  {
   "cell_type": "code",
   "execution_count": 24,
   "metadata": {
    "scrolled": true
   },
   "outputs": [
    {
     "ename": "ValueError",
     "evalue": "Found input variables with inconsistent numbers of samples: [400, 2004]",
     "output_type": "error",
     "traceback": [
      "\u001b[0;31m---------------------------------------------------------------------------\u001b[0m",
      "\u001b[0;31mValueError\u001b[0m                                Traceback (most recent call last)",
      "\u001b[0;32m<ipython-input-24-b1844eeeb5a7>\u001b[0m in \u001b[0;36m<module>\u001b[0;34m\u001b[0m\n\u001b[0;32m----> 1\u001b[0;31m \u001b[0mconfusionMatrix\u001b[0m \u001b[0;34m=\u001b[0m \u001b[0mconfusion_matrix\u001b[0m\u001b[0;34m(\u001b[0m\u001b[0my_test\u001b[0m\u001b[0;34m,\u001b[0m \u001b[0mpredicted\u001b[0m\u001b[0;34m)\u001b[0m\u001b[0;34m\u001b[0m\u001b[0;34m\u001b[0m\u001b[0m\n\u001b[0m\u001b[1;32m      2\u001b[0m \u001b[0mdf_cm\u001b[0m \u001b[0;34m=\u001b[0m \u001b[0mpd\u001b[0m\u001b[0;34m.\u001b[0m\u001b[0mDataFrame\u001b[0m\u001b[0;34m(\u001b[0m\u001b[0mconfusionMatrix\u001b[0m\u001b[0;34m,\u001b[0m \u001b[0mrange\u001b[0m\u001b[0;34m(\u001b[0m\u001b[0mlen\u001b[0m\u001b[0;34m(\u001b[0m\u001b[0mconfusionMatrix\u001b[0m\u001b[0;34m)\u001b[0m\u001b[0;34m)\u001b[0m\u001b[0;34m,\u001b[0m \u001b[0mrange\u001b[0m\u001b[0;34m(\u001b[0m\u001b[0mlen\u001b[0m\u001b[0;34m(\u001b[0m\u001b[0mconfusionMatrix\u001b[0m\u001b[0;34m)\u001b[0m\u001b[0;34m)\u001b[0m\u001b[0;34m)\u001b[0m\u001b[0;34m\u001b[0m\u001b[0;34m\u001b[0m\u001b[0m\n\u001b[1;32m      3\u001b[0m \u001b[0msn\u001b[0m\u001b[0;34m.\u001b[0m\u001b[0mset\u001b[0m\u001b[0;34m(\u001b[0m\u001b[0mfont_scale\u001b[0m\u001b[0;34m=\u001b[0m\u001b[0;36m1.4\u001b[0m\u001b[0;34m)\u001b[0m\u001b[0;31m#for label size\u001b[0m\u001b[0;34m\u001b[0m\u001b[0;34m\u001b[0m\u001b[0m\n\u001b[1;32m      4\u001b[0m \u001b[0msn\u001b[0m\u001b[0;34m.\u001b[0m\u001b[0mheatmap\u001b[0m\u001b[0;34m(\u001b[0m\u001b[0mdf_cm\u001b[0m\u001b[0;34m,\u001b[0m \u001b[0mannot\u001b[0m\u001b[0;34m=\u001b[0m\u001b[0;32mTrue\u001b[0m\u001b[0;34m,\u001b[0m\u001b[0mannot_kws\u001b[0m\u001b[0;34m=\u001b[0m\u001b[0;34m{\u001b[0m\u001b[0;34m\"size\"\u001b[0m\u001b[0;34m:\u001b[0m \u001b[0;36m16\u001b[0m\u001b[0;34m}\u001b[0m\u001b[0;34m)\u001b[0m\u001b[0;31m# font size\u001b[0m\u001b[0;34m\u001b[0m\u001b[0;34m\u001b[0m\u001b[0m\n",
      "\u001b[0;32m/Library/Frameworks/Python.framework/Versions/3.7/lib/python3.7/site-packages/sklearn/metrics/classification.py\u001b[0m in \u001b[0;36mconfusion_matrix\u001b[0;34m(y_true, y_pred, labels, sample_weight)\u001b[0m\n\u001b[1;32m    251\u001b[0m \u001b[0;34m\u001b[0m\u001b[0m\n\u001b[1;32m    252\u001b[0m     \"\"\"\n\u001b[0;32m--> 253\u001b[0;31m     \u001b[0my_type\u001b[0m\u001b[0;34m,\u001b[0m \u001b[0my_true\u001b[0m\u001b[0;34m,\u001b[0m \u001b[0my_pred\u001b[0m \u001b[0;34m=\u001b[0m \u001b[0m_check_targets\u001b[0m\u001b[0;34m(\u001b[0m\u001b[0my_true\u001b[0m\u001b[0;34m,\u001b[0m \u001b[0my_pred\u001b[0m\u001b[0;34m)\u001b[0m\u001b[0;34m\u001b[0m\u001b[0;34m\u001b[0m\u001b[0m\n\u001b[0m\u001b[1;32m    254\u001b[0m     \u001b[0;32mif\u001b[0m \u001b[0my_type\u001b[0m \u001b[0;32mnot\u001b[0m \u001b[0;32min\u001b[0m \u001b[0;34m(\u001b[0m\u001b[0;34m\"binary\"\u001b[0m\u001b[0;34m,\u001b[0m \u001b[0;34m\"multiclass\"\u001b[0m\u001b[0;34m)\u001b[0m\u001b[0;34m:\u001b[0m\u001b[0;34m\u001b[0m\u001b[0;34m\u001b[0m\u001b[0m\n\u001b[1;32m    255\u001b[0m         \u001b[0;32mraise\u001b[0m \u001b[0mValueError\u001b[0m\u001b[0;34m(\u001b[0m\u001b[0;34m\"%s is not supported\"\u001b[0m \u001b[0;34m%\u001b[0m \u001b[0my_type\u001b[0m\u001b[0;34m)\u001b[0m\u001b[0;34m\u001b[0m\u001b[0;34m\u001b[0m\u001b[0m\n",
      "\u001b[0;32m/Library/Frameworks/Python.framework/Versions/3.7/lib/python3.7/site-packages/sklearn/metrics/classification.py\u001b[0m in \u001b[0;36m_check_targets\u001b[0;34m(y_true, y_pred)\u001b[0m\n\u001b[1;32m     69\u001b[0m     \u001b[0my_pred\u001b[0m \u001b[0;34m:\u001b[0m \u001b[0marray\u001b[0m \u001b[0;32mor\u001b[0m \u001b[0mindicator\u001b[0m \u001b[0mmatrix\u001b[0m\u001b[0;34m\u001b[0m\u001b[0;34m\u001b[0m\u001b[0m\n\u001b[1;32m     70\u001b[0m     \"\"\"\n\u001b[0;32m---> 71\u001b[0;31m     \u001b[0mcheck_consistent_length\u001b[0m\u001b[0;34m(\u001b[0m\u001b[0my_true\u001b[0m\u001b[0;34m,\u001b[0m \u001b[0my_pred\u001b[0m\u001b[0;34m)\u001b[0m\u001b[0;34m\u001b[0m\u001b[0;34m\u001b[0m\u001b[0m\n\u001b[0m\u001b[1;32m     72\u001b[0m     \u001b[0mtype_true\u001b[0m \u001b[0;34m=\u001b[0m \u001b[0mtype_of_target\u001b[0m\u001b[0;34m(\u001b[0m\u001b[0my_true\u001b[0m\u001b[0;34m)\u001b[0m\u001b[0;34m\u001b[0m\u001b[0;34m\u001b[0m\u001b[0m\n\u001b[1;32m     73\u001b[0m     \u001b[0mtype_pred\u001b[0m \u001b[0;34m=\u001b[0m \u001b[0mtype_of_target\u001b[0m\u001b[0;34m(\u001b[0m\u001b[0my_pred\u001b[0m\u001b[0;34m)\u001b[0m\u001b[0;34m\u001b[0m\u001b[0;34m\u001b[0m\u001b[0m\n",
      "\u001b[0;32m/Library/Frameworks/Python.framework/Versions/3.7/lib/python3.7/site-packages/sklearn/utils/validation.py\u001b[0m in \u001b[0;36mcheck_consistent_length\u001b[0;34m(*arrays)\u001b[0m\n\u001b[1;32m    233\u001b[0m     \u001b[0;32mif\u001b[0m \u001b[0mlen\u001b[0m\u001b[0;34m(\u001b[0m\u001b[0muniques\u001b[0m\u001b[0;34m)\u001b[0m \u001b[0;34m>\u001b[0m \u001b[0;36m1\u001b[0m\u001b[0;34m:\u001b[0m\u001b[0;34m\u001b[0m\u001b[0;34m\u001b[0m\u001b[0m\n\u001b[1;32m    234\u001b[0m         raise ValueError(\"Found input variables with inconsistent numbers of\"\n\u001b[0;32m--> 235\u001b[0;31m                          \" samples: %r\" % [int(l) for l in lengths])\n\u001b[0m\u001b[1;32m    236\u001b[0m \u001b[0;34m\u001b[0m\u001b[0m\n\u001b[1;32m    237\u001b[0m \u001b[0;34m\u001b[0m\u001b[0m\n",
      "\u001b[0;31mValueError\u001b[0m: Found input variables with inconsistent numbers of samples: [400, 2004]"
     ]
    }
   ],
   "source": [
    "confusionMatrix = confusion_matrix(y_test, predicted)\n",
    "df_cm = pd.DataFrame(confusionMatrix, range(len(confusionMatrix)), range(len(confusionMatrix)))\n",
    "sn.set(font_scale=1.4)#for label size\n",
    "sn.heatmap(df_cm, annot=True,annot_kws={\"size\": 16})# font size"
   ]
  },
  {
   "cell_type": "code",
   "execution_count": null,
   "metadata": {},
   "outputs": [],
   "source": [
    "vectorizer = CountVectorizer()\n",
    "sentenceVectors = vectorizer.fit_transform(allSentences)\n",
    "\n",
    "tfidf = TfidfTransformer()\n",
    "train = tfidf.fit_transform(sentenceVectors)\n",
    "train.shape\n",
    "\n",
    "vectorizer2 = CountVectorizer()\n",
    "sentenceVectors2 = vectorizer.fit_transform(allSentences2)\n",
    "\n",
    "tfidf2 = TfidfTransformer()\n",
    "train2 = tfidf.fit_transform(sentenceVectors)\n",
    "train2.shape\n",
    "p = train[df_test['positivity'].values == 4].sum(0) + 1\n",
    "q = train[df_test['positivity'].values == 0].sum(0) + 1\n",
    "\n",
    "r = np.log((p/p.sum()) / (q/q.sum()))\n",
    "\n",
    "b = np.log(len(p) / len(q))\n",
    "\n",
    "pre_preds = train2 @ r.T + b\n",
    "preds = pre_preds.T > 0\n",
    "accuracy = (preds == y_test).mean()\n"
   ]
  },
  {
   "cell_type": "code",
   "execution_count": null,
   "metadata": {},
   "outputs": [],
   "source": []
  }
 ],
 "metadata": {
  "kernelspec": {
   "display_name": "Python 3",
   "language": "python",
   "name": "python3"
  },
  "language_info": {
   "codemirror_mode": {
    "name": "ipython",
    "version": 3
   },
   "file_extension": ".py",
   "mimetype": "text/x-python",
   "name": "python",
   "nbconvert_exporter": "python",
   "pygments_lexer": "ipython3",
   "version": "3.7.3"
  },
  "stem_cell": {
   "cell_type": "raw",
   "metadata": {
    "pycharm": {
     "metadata": false
    }
   },
   "source": ""
  }
 },
 "nbformat": 4,
 "nbformat_minor": 1
}
